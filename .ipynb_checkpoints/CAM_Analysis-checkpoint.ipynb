{
 "cells": [
  {
   "cell_type": "markdown",
   "metadata": {},
   "source": [
    "# Cleaned notebook for simple CAM analysis and calculation of properties\n",
    "This is a modified version of the AT_CAM notebook. -- Carter 04/13/21\n"
   ]
  },
  {
   "cell_type": "code",
   "execution_count": 4,
   "metadata": {},
   "outputs": [],
   "source": [
    "import re\n",
    "import numpy as np\n",
    "import pandas as pd\n",
    "import os\n",
    "from os import walk\n",
    "import math\n",
    "\n",
    "import cv2 as cv\n",
    "import networkx as nx\n",
    "\n",
    "import matplotlib.pyplot as plt\n",
    "#from Shapes import shapes\n",
    "#from Lines import lines"
   ]
  },
  {
   "cell_type": "code",
   "execution_count": 5,
   "metadata": {},
   "outputs": [],
   "source": [
    "from ipywidgets import interact"
   ]
  },
  {
   "cell_type": "markdown",
   "metadata": {},
   "source": [
    "### Pulling in Data"
   ]
  },
  {
   "cell_type": "code",
   "execution_count": 6,
   "metadata": {},
   "outputs": [],
   "source": [
    "file_path = '/home/carterrhea/Dropbox/APLS-CAM-Proposal/DataFinal/Clean/' #path to data on local computer"
   ]
  },
  {
   "cell_type": "code",
   "execution_count": 7,
   "metadata": {},
   "outputs": [],
   "source": [
    "#Function to get unique elements from a list\n",
    "def list_unique(list1): \n",
    "  \n",
    "    # intilize a null list \n",
    "    unique_list = [] \n",
    "      \n",
    "    # traverse for all elements \n",
    "    for x in list1: \n",
    "        # check if exists in unique_list or not \n",
    "        if x not in unique_list: \n",
    "            unique_list.append(x) \n",
    "            \n",
    "    return unique_list"
   ]
  },
  {
   "cell_type": "code",
   "execution_count": 8,
   "metadata": {},
   "outputs": [],
   "source": [
    "def make_id_list(my_file_path):\n",
    "\n",
    "    #pull all filenames in your data directory\n",
    "    _, _, filenames = next(walk(my_file_path))\n",
    "\n",
    "    #grab only the id from the filenames to feed to the function\n",
    "    id_list = []\n",
    "    for filename in filenames:\n",
    "        filename_split = filename.rsplit('_', 1)\n",
    "        id_list.append(filename_split[0])\n",
    "    \n",
    "    unique_id = list_unique(id_list) #drop duplicate ids, since they are the same for _blocks & _links\n",
    "        \n",
    "    \n",
    "    \n",
    "    return unique_id"
   ]
  },
  {
   "cell_type": "code",
   "execution_count": 9,
   "metadata": {},
   "outputs": [],
   "source": [
    "#Get an id_list from your specific file path\n",
    "my_id_list = make_id_list(file_path)"
   ]
  },
  {
   "cell_type": "code",
   "execution_count": 10,
   "metadata": {},
   "outputs": [
    {
     "data": {
      "text/plain": [
       "159"
      ]
     },
     "execution_count": 10,
     "metadata": {},
     "output_type": "execute_result"
    }
   ],
   "source": [
    "#Look at total number of cams\n",
    "len(my_id_list)"
   ]
  },
  {
   "cell_type": "markdown",
   "metadata": {},
   "source": [
    "### Looking at a single CAM"
   ]
  },
  {
   "cell_type": "code",
   "execution_count": 11,
   "metadata": {},
   "outputs": [
    {
     "data": {
      "text/html": [
       "<div>\n",
       "<style scoped>\n",
       "    .dataframe tbody tr th:only-of-type {\n",
       "        vertical-align: middle;\n",
       "    }\n",
       "\n",
       "    .dataframe tbody tr th {\n",
       "        vertical-align: top;\n",
       "    }\n",
       "\n",
       "    .dataframe thead th {\n",
       "        text-align: right;\n",
       "    }\n",
       "</style>\n",
       "<table border=\"1\" class=\"dataframe\">\n",
       "  <thead>\n",
       "    <tr style=\"text-align: right;\">\n",
       "      <th></th>\n",
       "      <th>id</th>\n",
       "      <th>title</th>\n",
       "      <th>x_pos</th>\n",
       "      <th>y_pos</th>\n",
       "      <th>width</th>\n",
       "      <th>height</th>\n",
       "      <th>shape</th>\n",
       "      <th>creator</th>\n",
       "      <th>num</th>\n",
       "      <th>comment</th>\n",
       "      <th>timestamp</th>\n",
       "      <th>modifiable</th>\n",
       "      <th>CAM</th>\n",
       "    </tr>\n",
       "  </thead>\n",
       "  <tbody>\n",
       "    <tr>\n",
       "      <th>0</th>\n",
       "      <td>13564</td>\n",
       "      <td>Carbon Tax</td>\n",
       "      <td>557.0</td>\n",
       "      <td>34.0</td>\n",
       "      <td>123.312</td>\n",
       "      <td>92.0</td>\n",
       "      <td>neutral</td>\n",
       "      <td>712</td>\n",
       "      <td>1.0</td>\n",
       "      <td>NaN</td>\n",
       "      <td>NaN</td>\n",
       "      <td>1</td>\n",
       "      <td>821</td>\n",
       "    </tr>\n",
       "    <tr>\n",
       "      <th>1</th>\n",
       "      <td>13572</td>\n",
       "      <td>Higher costs</td>\n",
       "      <td>713.0</td>\n",
       "      <td>189.0</td>\n",
       "      <td>160.000</td>\n",
       "      <td>120.0</td>\n",
       "      <td>negative strong</td>\n",
       "      <td>712</td>\n",
       "      <td>2.0</td>\n",
       "      <td>NaN</td>\n",
       "      <td>NaN</td>\n",
       "      <td>1</td>\n",
       "      <td>821</td>\n",
       "    </tr>\n",
       "    <tr>\n",
       "      <th>2</th>\n",
       "      <td>13579</td>\n",
       "      <td>Better for the environment</td>\n",
       "      <td>298.0</td>\n",
       "      <td>188.0</td>\n",
       "      <td>160.000</td>\n",
       "      <td>120.0</td>\n",
       "      <td>positive strong</td>\n",
       "      <td>712</td>\n",
       "      <td>3.0</td>\n",
       "      <td>NaN</td>\n",
       "      <td>NaN</td>\n",
       "      <td>1</td>\n",
       "      <td>821</td>\n",
       "    </tr>\n",
       "    <tr>\n",
       "      <th>3</th>\n",
       "      <td>13778</td>\n",
       "      <td>Better future for my kids</td>\n",
       "      <td>131.0</td>\n",
       "      <td>402.0</td>\n",
       "      <td>160.000</td>\n",
       "      <td>120.0</td>\n",
       "      <td>positive strong</td>\n",
       "      <td>712</td>\n",
       "      <td>4.0</td>\n",
       "      <td>NaN</td>\n",
       "      <td>NaN</td>\n",
       "      <td>1</td>\n",
       "      <td>821</td>\n",
       "    </tr>\n",
       "    <tr>\n",
       "      <th>4</th>\n",
       "      <td>13794</td>\n",
       "      <td>Harder to afford day to day life</td>\n",
       "      <td>618.0</td>\n",
       "      <td>437.0</td>\n",
       "      <td>160.000</td>\n",
       "      <td>120.0</td>\n",
       "      <td>negative</td>\n",
       "      <td>712</td>\n",
       "      <td>8.0</td>\n",
       "      <td>NaN</td>\n",
       "      <td>NaN</td>\n",
       "      <td>1</td>\n",
       "      <td>821</td>\n",
       "    </tr>\n",
       "  </tbody>\n",
       "</table>\n",
       "</div>"
      ],
      "text/plain": [
       "      id                             title  x_pos  y_pos    width  height  \\\n",
       "0  13564                        Carbon Tax  557.0   34.0  123.312    92.0   \n",
       "1  13572                      Higher costs  713.0  189.0  160.000   120.0   \n",
       "2  13579        Better for the environment  298.0  188.0  160.000   120.0   \n",
       "3  13778         Better future for my kids  131.0  402.0  160.000   120.0   \n",
       "4  13794  Harder to afford day to day life  618.0  437.0  160.000   120.0   \n",
       "\n",
       "             shape  creator  num  comment  timestamp  modifiable  CAM  \n",
       "0          neutral      712  1.0      NaN        NaN           1  821  \n",
       "1  negative strong      712  2.0      NaN        NaN           1  821  \n",
       "2  positive strong      712  3.0      NaN        NaN           1  821  \n",
       "3  positive strong      712  4.0      NaN        NaN           1  821  \n",
       "4         negative      712  8.0      NaN        NaN           1  821  "
      ]
     },
     "metadata": {},
     "output_type": "display_data"
    },
    {
     "data": {
      "text/html": [
       "<div>\n",
       "<style scoped>\n",
       "    .dataframe tbody tr th:only-of-type {\n",
       "        vertical-align: middle;\n",
       "    }\n",
       "\n",
       "    .dataframe tbody tr th {\n",
       "        vertical-align: top;\n",
       "    }\n",
       "\n",
       "    .dataframe thead th {\n",
       "        text-align: right;\n",
       "    }\n",
       "</style>\n",
       "<table border=\"1\" class=\"dataframe\">\n",
       "  <thead>\n",
       "    <tr style=\"text-align: right;\">\n",
       "      <th></th>\n",
       "      <th>id</th>\n",
       "      <th>starting_block</th>\n",
       "      <th>ending_block</th>\n",
       "      <th>line_style</th>\n",
       "      <th>creator</th>\n",
       "      <th>num</th>\n",
       "      <th>arrow_type</th>\n",
       "      <th>timestamp</th>\n",
       "      <th>CAM</th>\n",
       "    </tr>\n",
       "  </thead>\n",
       "  <tbody>\n",
       "    <tr>\n",
       "      <th>0</th>\n",
       "      <td>7748</td>\n",
       "      <td>13564</td>\n",
       "      <td>13579</td>\n",
       "      <td>Solid-Weak</td>\n",
       "      <td>712</td>\n",
       "      <td>0</td>\n",
       "      <td>none</td>\n",
       "      <td>17:54:38</td>\n",
       "      <td>821</td>\n",
       "    </tr>\n",
       "    <tr>\n",
       "      <th>1</th>\n",
       "      <td>7751</td>\n",
       "      <td>13564</td>\n",
       "      <td>13572</td>\n",
       "      <td>Dashed-Weak</td>\n",
       "      <td>712</td>\n",
       "      <td>0</td>\n",
       "      <td>none</td>\n",
       "      <td>17:54:49</td>\n",
       "      <td>821</td>\n",
       "    </tr>\n",
       "    <tr>\n",
       "      <th>2</th>\n",
       "      <td>7971</td>\n",
       "      <td>13579</td>\n",
       "      <td>13778</td>\n",
       "      <td>Solid-Weak</td>\n",
       "      <td>712</td>\n",
       "      <td>0</td>\n",
       "      <td>none</td>\n",
       "      <td>18:08:13</td>\n",
       "      <td>821</td>\n",
       "    </tr>\n",
       "    <tr>\n",
       "      <th>3</th>\n",
       "      <td>7984</td>\n",
       "      <td>13572</td>\n",
       "      <td>13794</td>\n",
       "      <td>Dashed-Weak</td>\n",
       "      <td>712</td>\n",
       "      <td>0</td>\n",
       "      <td>none</td>\n",
       "      <td>18:09:16</td>\n",
       "      <td>821</td>\n",
       "    </tr>\n",
       "  </tbody>\n",
       "</table>\n",
       "</div>"
      ],
      "text/plain": [
       "     id  starting_block  ending_block   line_style  creator  num arrow_type  \\\n",
       "0  7748           13564         13579   Solid-Weak      712    0       none   \n",
       "1  7751           13564         13572  Dashed-Weak      712    0       none   \n",
       "2  7971           13579         13778   Solid-Weak      712    0       none   \n",
       "3  7984           13572         13794  Dashed-Weak      712    0       none   \n",
       "\n",
       "  timestamp  CAM  \n",
       "0  17:54:38  821  \n",
       "1  17:54:49  821  \n",
       "2  18:08:13  821  \n",
       "3  18:09:16  821  "
      ]
     },
     "metadata": {},
     "output_type": "display_data"
    }
   ],
   "source": [
    "cam_id = my_id_list[2] #grab a single id to just look through code\n",
    "\n",
    "blocks = pd.read_csv(f'{file_path}/{cam_id}_blocks.csv')\n",
    "links = pd.read_csv(f'{file_path}/{cam_id}_links.csv')\n",
    "\n",
    "display(blocks.head())\n",
    "display(links.head())"
   ]
  },
  {
   "cell_type": "markdown",
   "metadata": {},
   "source": [
    "## Create A Graph Using Networkx"
   ]
  },
  {
   "cell_type": "markdown",
   "metadata": {},
   "source": [
    "### Create a function to build most basic graph"
   ]
  },
  {
   "cell_type": "code",
   "execution_count": 12,
   "metadata": {},
   "outputs": [],
   "source": [
    "def graph_from_df(node_df, edge_df):\n",
    "    # Get nodes\n",
    "    nodes = node_df['id'].to_list()\n",
    "    \n",
    "    # Get edges\n",
    "    edge_start = edge_df['starting_block'].to_list()\n",
    "    edge_end = edge_df['ending_block'].to_list()\n",
    "    edges = tuple(zip(edge_start, edge_end))\n",
    "    \n",
    "    # Create Graph\n",
    "    G = nx.Graph()\n",
    "    G.add_nodes_from(nodes)\n",
    "    G.add_edges_from(edges)\n",
    "    \n",
    "    return G"
   ]
  },
  {
   "cell_type": "code",
   "execution_count": 13,
   "metadata": {},
   "outputs": [],
   "source": [
    "G = graph_from_df(blocks,links)"
   ]
  },
  {
   "cell_type": "markdown",
   "metadata": {},
   "source": [
    "### Create a function to add attributes "
   ]
  },
  {
   "cell_type": "code",
   "execution_count": 14,
   "metadata": {},
   "outputs": [],
   "source": [
    "def add_node_attributes(graph_name, node_df, attr_name): #attr_column_name must be in quotes\n",
    "    \n",
    "    blocks_dict = node_df[['id', attr_name]].set_index('id').to_dict()[attr_name]\n",
    "    \n",
    "    nx.set_node_attributes(graph_name, blocks_dict, attr_name)\n",
    "    "
   ]
  },
  {
   "cell_type": "code",
   "execution_count": 15,
   "metadata": {},
   "outputs": [],
   "source": [
    "def add_link_attributes(graph_name, edge_df, attr_name):\n",
    "    attr_full_dict = {}\n",
    "    \n",
    "    edge_df['unique_link']= list(zip(edge_df['starting_block'], edge_df['ending_block']))\n",
    "        \n",
    "    for idx, row in edge_df.iterrows():\n",
    "        \n",
    "        attr_dict = {attr_name: row[attr_name]}\n",
    "        \n",
    "        attr_full_dict.update({row['unique_link']:attr_dict})\n",
    "    \n",
    "    nx.set_edge_attributes(G, attr_full_dict)\n",
    "    \n",
    "    \n",
    "    "
   ]
  },
  {
   "cell_type": "markdown",
   "metadata": {},
   "source": [
    "### Make all the Graphs\n",
    "#### Store all graphs with attributes in a list"
   ]
  },
  {
   "cell_type": "code",
   "execution_count": 16,
   "metadata": {},
   "outputs": [
    {
     "name": "stdout",
     "output_type": "stream",
     "text": [
      "CAM 575ec4be3fc3ac000611df4c__771 does not exist\n",
      "Summary Info:\n",
      "number of missing cams: 1\n",
      "number of cams with no links: 32\n",
      "number of complete cams: 126\n"
     ]
    }
   ],
   "source": [
    "graph_list = []\n",
    "working_id = []\n",
    "no_data = []\n",
    "missing_cam = []\n",
    "\n",
    "for i in my_id_list:\n",
    "    \n",
    "    \n",
    "    try:\n",
    "        blocks_df = pd.read_csv(f'{file_path}/{i}_blocks.csv')\n",
    "\n",
    "        links_df = pd.read_csv(f'{file_path}/{i}_links.csv')\n",
    "        \n",
    "        if len(links_df)>0:\n",
    "\n",
    "            G = graph_from_df(blocks_df, links_df)\n",
    "\n",
    "            add_node_attributes(G,blocks_df,'title')\n",
    "\n",
    "            add_node_attributes(G,blocks_df,'shape')\n",
    "\n",
    "            add_link_attributes(G, links_df, 'line_style')\n",
    "\n",
    "            graph_list.append(G)\n",
    "            \n",
    "            working_id.append(i)\n",
    "\n",
    "        \n",
    "        else:\n",
    "            no_data.append(i)\n",
    "    \n",
    "    except:\n",
    "        \n",
    "        missing_cam.append(i)\n",
    "        print(f'CAM {i} does not exist')\n",
    "\n",
    "print('Summary Info:')\n",
    "print(f'number of missing cams: {len(missing_cam)}')\n",
    "print(f'number of cams with no links: {len(no_data)}')\n",
    "print(f'number of complete cams: {len(working_id)}')\n"
   ]
  },
  {
   "cell_type": "markdown",
   "metadata": {},
   "source": [
    "#### Look at one of the graphs stored in your graph list"
   ]
  },
  {
   "cell_type": "code",
   "execution_count": 69,
   "metadata": {},
   "outputs": [
    {
     "name": "stdout",
     "output_type": "stream",
     "text": [
      "[(13702, 13720, {'line_style': 'Solid-Weak'}), (13702, 13963, {'line_style': 'Solid-Weak'}), (13702, 13714, {'line_style': 'Solid-Weak'}), (13702, 13763, {'line_style': 'Solid-Weak'})]\n",
      "-------------------------\n",
      "[(13702, {'title': 'Carbon Tax', 'shape': 'neutral'}), (13714, {'title': 'Leads to a better environment', 'shape': 'ambivalent'}), (13720, {'title': 'Corporate tax evasion', 'shape': 'negative'}), (13763, {'title': 'Encourages use of environmentally-friendly alternatives', 'shape': 'positive'}), (13963, {'title': 'Hurts low income consumers', 'shape': 'negative'})]\n"
     ]
    },
    {
     "data": {
      "image/png": "[encoded data removed]",
      "text/plain": [
       "<Figure size 432x288 with 1 Axes>"
      ]
     },
     "metadata": {},
     "output_type": "display_data"
    }
   ],
   "source": [
    "my_graph = graph_list[1]\n",
    "\n",
    "nx.draw(my_graph)\n",
    "print(my_graph.edges(data = True))\n",
    "print('-------------------------')\n",
    "print(my_graph.nodes(data = True))\n"
   ]
  },
  {
   "cell_type": "code",
   "execution_count": 89,
   "metadata": {},
   "outputs": [],
   "source": []
  },
  {
   "cell_type": "markdown",
   "metadata": {},
   "source": [
    "## Diversity Measure\n",
    "Carter 02/19/21 \n",
    "\n",
    "This comes from pg 5 of the following paper: https://arxiv.org/pdf/0901.1380.pdf\n",
    "\n"
   ]
  },
  {
   "cell_type": "code",
   "execution_count": 18,
   "metadata": {},
   "outputs": [],
   "source": [
    "# Create distance matrix\n",
    "D = np.zeros((7,7))  # We have seven node types hence 7 (note that we consider ambivalent as the same as neutral in this calculation)\n",
    "dist_ = np.arange(7)\n",
    "for i in range(7):\n",
    "    D[i,i:] = dist_\n",
    "    D[i:,i] = dist_\n",
    "    dist_ = dist_[:-1]\n",
    "\n",
    "def calculate_diversity(D, probs):\n",
    "    \"\"\"\n",
    "    Calculate Stirling Diversity measure with alpha = beta = 1\n",
    "    Args:\n",
    "        param: D - Distance Matrix\n",
    "        param: probs - list of probabilities in order of Strong Negative, Negative, Weak Negative, Neutral, Weak Positive, Positive, Strong Positive\n",
    "    \"\"\"\n",
    "    S = 0\n",
    "    for i in range(7):\n",
    "        for j in range(7):\n",
    "            S += D[i, j]*probs[i]*probs[j]\n",
    "    return S"
   ]
  },
  {
   "cell_type": "markdown",
   "metadata": {},
   "source": [
    "## Emotional Dependence Calculation\n",
    "\n",
    "\n",
    "This measure, emotional dependence, is meant to capture the essense of emotion coherence according to Paul Thaggard. This measure will be calculated on the central nodes of a graph. We define the central nodes as the three nodes with the highest centrality score. \n",
    "\n",
    "We calculate the emotional dependance in two manners:\n",
    "\n",
    " 1 - Treat dashed lines as solid lines. We assign +1 to the emotional dependence score for each connected node (dashed or solid) with the same valence. We do not include valence strengths (i.e. Strong Positive -> Positive). Assign -1 to the emotional dependence score for each connected node with a difference valence (i.e. if the central node is positive and the connected node is either negative, neutral, or ambivalent we will subtract 1)\n",
    " \n",
    " 2 - Treat dashed lines separately. We assign +1 to the emotional dependence score for each node with the same valence connected by a dashed line. If the nodes are connected by a solid line and are of different valences, we also assign 1 to the emotional dependence score. Otherwise we subtract 1 from the score. i.e. if a positive central node is connected to a negative node via a dashed line, we add 1 to the emotional dependence score. \n",
    " \n",
    "In order to normalize our results, we divide the scores by the number of connections to the central node."
   ]
  },
  {
   "cell_type": "code",
   "execution_count": 91,
   "metadata": {},
   "outputs": [],
   "source": [
    "def emo_dep1(graph, central):\n",
    "    '''\n",
    "    Calculate emotional dependence as described above in scenario 1.\n",
    "    '''\n",
    "    emo_dep_score = 0\n",
    "    # Get connected nodes\n",
    "    connections = graph[central]\n",
    "    # Valence of central node\n",
    "    cen_shape = graph.nodes[central]['shape']\n",
    "    print(cen_shape)\n",
    "    for connect in connections:\n",
    "        # Valence of connection\n",
    "        connect_shape = graph.nodes[connect]['shape'].split(' ')[0]  # Take only valence type \n",
    "        print(connect_shape)\n",
    "        if cen_shape == connect_shape:\n",
    "            emo_dep_score += 1\n",
    "        else:\n",
    "            emo_dep_score -= 1\n",
    "    final_score = emo_dep_score/len(connections)\n",
    "    return final_score\n",
    "\n",
    "def emo_dep2(graph, central):\n",
    "    '''\n",
    "    Calculate emotional dependence as described above in scenario 1.\n",
    "    '''\n",
    "    emo_dep_score = 0\n",
    "    # Get connected nodes\n",
    "    connections = graph[central]\n",
    "    # Valence of central node\n",
    "    cen_shape = graph.nodes[central]['shape']\n",
    "    print(connections)\n",
    "    for connect in connections:\n",
    "        # Valence of connection\n",
    "        connect_style = graph.get_edge_data(central,connect)['line_style'].split('-')[0].lower()  # Only want solid or dashed in lowercase\n",
    "        # Valence of connected node\n",
    "        connect_shape = graph.nodes[connect]['shape'].split(' ')[0]  # Take only valence type \n",
    "        print(connect_shape)\n",
    "        if cen_shape == connect_shape:  # If the nodes have the same valence\n",
    "            if connect_style == 'solid':  # If they are connected by a solid line\n",
    "                emo_dep_score += 1\n",
    "            else:  # If they are connected by a dashed line\n",
    "                emo_dep_score -= 1\n",
    "        else:  # If nodes have different valences\n",
    "            if connect_style == 'solid':  # If they are connected by a solid line\n",
    "                emo_dep_score -= 1\n",
    "            else:  # If they are connected by a dashed line\n",
    "                emo_dep_score += 1\n",
    "    final_score = emo_dep_score/len(connections)\n",
    "    return final_score"
   ]
  },
  {
   "cell_type": "markdown",
   "metadata": {},
   "source": [
    "## Functions to get all the network measures"
   ]
  },
  {
   "cell_type": "code",
   "execution_count": 29,
   "metadata": {},
   "outputs": [],
   "source": [
    "def calc_CAM_GLI(id_list):\n",
    "    positive_list = ['positive strong', 'positive','positive weak']\n",
    "    negative_list = ['negative strong','negative','negative weak']\n",
    "    neutral_list = ['neutral','ambivalent']\n",
    "    \n",
    "    solid_list = ['Solid', 'Solid-Strong', 'Solid-Weak']  # Solid link types\n",
    "    dashed_list = ['Dashed', 'Dashed-Strong', 'Dashed-Weak']  # Dashed link types\n",
    "    \n",
    "    dictionary_list = []\n",
    "    \n",
    "    for cam_id in id_list:\n",
    "        block_neg = 0\n",
    "        block_pos = 0\n",
    "        block_neut = 0\n",
    "        \n",
    "        link_solid = 0\n",
    "        link_dashed = 0\n",
    "        \n",
    "        try:\n",
    "            df_blocks = pd.read_csv(f'{file_path}/{cam_id}_blocks.csv')\n",
    "            df_links = pd.read_csv(f'{file_path}/{cam_id}_links.csv')\n",
    "\n",
    "            #Get proportion of positive and negative nodes\n",
    "            for i in range(len(df_blocks)):\n",
    "                if df_blocks['shape'][i] in negative_list:\n",
    "                    block_neg = block_neg + 1\n",
    "                elif df_blocks['shape'][i] in positive_list:\n",
    "                    block_pos = block_pos + 1\n",
    "                else:\n",
    "                    block_neut = block_neut + 1\n",
    "\n",
    "            # Get proportion of solid and dashed lines\n",
    "            for i in range(len(df_links)):\n",
    "                if df_links['line_style'][i] in solid_list:\n",
    "                    link_solid += 1\n",
    "                else:\n",
    "                    link_dashed += 1\n",
    "\n",
    "            # Get probabilities of each type of node -- used for diversity calculation\n",
    "            neg_strong = df_blocks[df_blocks['shape']=='negative strong'].count()\n",
    "            neg = df_blocks[df_blocks['shape']=='negative'].count()\n",
    "            neg_weak = df_blocks[df_blocks['shape']=='negative weak'].count()\n",
    "            neutral = df_blocks[(df_blocks['shape']=='neutral') & (df_blocks['shape']=='ambivalent')].count()\n",
    "            pos_weak = df_blocks[df_blocks['shape']=='positive weak'].count()\n",
    "            pos = df_blocks[df_blocks['shape']=='positive'].count()\n",
    "            pos_strong = df_blocks[df_blocks['shape']=='positive strong'].count()\n",
    "            probs = [neg_strong, neg, neg_weak, neutral, pos_weak, pos, pos_strong]\n",
    "            div_ = calculate_diversity(D, probs)\n",
    "\n",
    "            # Get nodes\n",
    "            nodes = df_blocks['id'].to_list()\n",
    "\n",
    "            # Get edges\n",
    "            edge_start = df_links['starting_block'].to_list()\n",
    "            edge_end = df_links['ending_block'].to_list()\n",
    "            edges = tuple(zip(edge_start, edge_end))\n",
    "\n",
    "            # Create Graph\n",
    "            G = nx.Graph()\n",
    "            G.add_nodes_from(nodes)\n",
    "            G.add_edges_from(edges)\n",
    "\n",
    "            # Calculate Density\n",
    "            density = np.round(nx.density(G), 3)\n",
    "            node_count = G.number_of_nodes()\n",
    "            edge_count = G.size()\n",
    "\n",
    "            # Calculate longest path\n",
    "            try:\n",
    "                components = nx.connected_components(G)\n",
    "                largest_component = max(components, key=len)\n",
    "                subgraph = G.subgraph(largest_component)\n",
    "                diameter = nx.diameter(subgraph)\n",
    "            except:\n",
    "                diameter = 0\n",
    "            # Calculate transitivity\n",
    "            triadic_closure = np.round(nx.transitivity(G), 3)\n",
    "\n",
    "            # Calculate max degree\n",
    "            try:\n",
    "                degree_centrality = nx.degree_centrality(G)\n",
    "                max_centrality_ind = np.argmax(list(degree_centrality.values()))\n",
    "                central_node = list(degree_centrality.keys())[max_centrality_ind]\n",
    "                central_node_title = df_blocks[df_blocks['id'] == central_node]['title'].values[0]\n",
    "                central_node_valence = df_blocks[df_blocks['id'] == central_node]['shape'].values[0]\n",
    "                central_node_val = np.round(list(degree_centrality.values())[max_centrality_ind], 3)\n",
    "                # Calculate emotional dependence\n",
    "                emo_dep1_score = emo_dep1(G, central_node)\n",
    "                emo_dep2_score = emo_dep2(G, central_node)\n",
    "            except:\n",
    "                central_node = 0\n",
    "                central_node_title = ''\n",
    "                central_node_val = 0\n",
    "                emo_dep1_score = 0\n",
    "                emo_dep2_score = 0\n",
    "           \n",
    "            # Eigenvector Centrality\n",
    "            try:\n",
    "                eigenvector_centrality = nx.eigenvector_centrality(G)\n",
    "                max_centrality_ind = np.argmax(list(eigenvector_centrality.values()))\n",
    "                central_node_val_eig = np.round(list(eigenvector_centrality.values())[max_centrality_ind], 3)\n",
    "            except:\n",
    "                central_node_val_eig = 0\n",
    "\n",
    "            # Betweeness Centrality\n",
    "            try:\n",
    "                betweenness_centrality = nx.betweenness_centrality(G)\n",
    "                max_centrality_ind = np.argmax(list(betweenness_centrality.values()))\n",
    "                central_node_val_bet = np.round(list(betweenness_centrality.values())[max_centrality_ind], 3)\n",
    "            except:\n",
    "                central_node_val_bet = 0\n",
    "\n",
    "            # Make the dictionary\n",
    "                #add in ratio of node val\n",
    "                #add number of type of node\n",
    "            density_dict = {\n",
    "                'cam_id': cam_id,\n",
    "                'node_count': node_count,\n",
    "                'positive_nodes':block_pos,\n",
    "                'negative_nodes':block_neg,\n",
    "                'neutral_nodes':block_neut,\n",
    "                'link_solid': link_solid,\n",
    "                'link_dashed': link_dashed,\n",
    "                'edge_count': edge_count,\n",
    "                'density': density,\n",
    "                'diameter': diameter,\n",
    "                'triadic_closure': triadic_closure,\n",
    "                'central_node': central_node,\n",
    "                'central_node_title': central_node_title,\n",
    "                'central_node_valence': central_node_valence,\n",
    "                'central_node_val': central_node_val,\n",
    "                'central_node_val_eig': central_node_val_eig,\n",
    "                'central_node_val_bet': central_node_val_bet,\n",
    "                'diversity': div_,\n",
    "                'emo_dep1': emo_dep1_score,\n",
    "                'emo_dep2': emo_dep2_score\n",
    "            }\n",
    "\n",
    "            dictionary_list.append(density_dict)\n",
    "            \n",
    "        except:\n",
    "            print(f'No file found for {cam_id}')\n",
    "        \n",
    "    cam_density_df = pd.DataFrame(dictionary_list)\n",
    "            \n",
    "    return cam_density_df"
   ]
  },
  {
   "cell_type": "code",
   "execution_count": 31,
   "metadata": {},
   "outputs": [
    {
     "name": "stdout",
     "output_type": "stream",
     "text": [
      "No file found for 5\n",
      "No file found for f\n",
      "No file found for 8\n",
      "No file found for 6\n",
      "No file found for 5\n",
      "No file found for 4\n",
      "No file found for 5\n",
      "No file found for 8\n",
      "No file found for 2\n",
      "No file found for 2\n",
      "No file found for c\n",
      "No file found for f\n",
      "No file found for 5\n",
      "No file found for c\n",
      "No file found for 1\n",
      "No file found for a\n",
      "No file found for 8\n",
      "No file found for f\n",
      "No file found for 2\n",
      "No file found for 1\n",
      "No file found for a\n",
      "No file found for d\n",
      "No file found for 3\n",
      "No file found for d\n",
      "No file found for _\n",
      "No file found for 9\n",
      "No file found for 2\n",
      "No file found for 9\n"
     ]
    },
    {
     "data": {
      "text/html": [
       "<div>\n",
       "<style scoped>\n",
       "    .dataframe tbody tr th:only-of-type {\n",
       "        vertical-align: middle;\n",
       "    }\n",
       "\n",
       "    .dataframe tbody tr th {\n",
       "        vertical-align: top;\n",
       "    }\n",
       "\n",
       "    .dataframe thead th {\n",
       "        text-align: right;\n",
       "    }\n",
       "</style>\n",
       "<table border=\"1\" class=\"dataframe\">\n",
       "  <thead>\n",
       "    <tr style=\"text-align: right;\">\n",
       "      <th></th>\n",
       "    </tr>\n",
       "  </thead>\n",
       "  <tbody>\n",
       "  </tbody>\n",
       "</table>\n",
       "</div>"
      ],
      "text/plain": [
       "Empty DataFrame\n",
       "Columns: []\n",
       "Index: []"
      ]
     },
     "metadata": {},
     "output_type": "display_data"
    }
   ],
   "source": [
    "cam_GLI_df = calc_CAM_GLI(my_id_list)\n",
    "display(cam_GLI_df)"
   ]
  },
  {
   "cell_type": "code",
   "execution_count": 21,
   "metadata": {},
   "outputs": [
    {
     "data": {
      "text/html": [
       "<div>\n",
       "<style scoped>\n",
       "    .dataframe tbody tr th:only-of-type {\n",
       "        vertical-align: middle;\n",
       "    }\n",
       "\n",
       "    .dataframe tbody tr th {\n",
       "        vertical-align: top;\n",
       "    }\n",
       "\n",
       "    .dataframe thead th {\n",
       "        text-align: right;\n",
       "    }\n",
       "</style>\n",
       "<table border=\"1\" class=\"dataframe\">\n",
       "  <thead>\n",
       "    <tr style=\"text-align: right;\">\n",
       "      <th></th>\n",
       "      <th>node_count</th>\n",
       "      <th>cam_count</th>\n",
       "    </tr>\n",
       "  </thead>\n",
       "  <tbody>\n",
       "    <tr>\n",
       "      <th>0</th>\n",
       "      <td>0</td>\n",
       "      <td>24</td>\n",
       "    </tr>\n",
       "    <tr>\n",
       "      <th>1</th>\n",
       "      <td>1</td>\n",
       "      <td>4</td>\n",
       "    </tr>\n",
       "    <tr>\n",
       "      <th>2</th>\n",
       "      <td>2</td>\n",
       "      <td>2</td>\n",
       "    </tr>\n",
       "    <tr>\n",
       "      <th>3</th>\n",
       "      <td>3</td>\n",
       "      <td>5</td>\n",
       "    </tr>\n",
       "    <tr>\n",
       "      <th>4</th>\n",
       "      <td>4</td>\n",
       "      <td>4</td>\n",
       "    </tr>\n",
       "  </tbody>\n",
       "</table>\n",
       "</div>"
      ],
      "text/plain": [
       "   node_count  cam_count\n",
       "0           0         24\n",
       "1           1          4\n",
       "2           2          2\n",
       "3           3          5\n",
       "4           4          4"
      ]
     },
     "execution_count": 21,
     "metadata": {},
     "output_type": "execute_result"
    }
   ],
   "source": [
    "#get a df of the number of cams per node count\n",
    "node_count_df = pd.DataFrame(cam_GLI_df.groupby('node_count',as_index=False).count()[['node_count','edge_count']]).rename(columns={'edge_count':'cam_count'})\n",
    "node_count_df.head(5)"
   ]
  },
  {
   "cell_type": "markdown",
   "metadata": {},
   "source": [
    "#### Look at distribution of node count"
   ]
  },
  {
   "cell_type": "code",
   "execution_count": 22,
   "metadata": {},
   "outputs": [
    {
     "data": {
      "text/plain": [
       "Text(0.5, 1.0, 'Distribution of Node Count')"
      ]
     },
     "execution_count": 22,
     "metadata": {},
     "output_type": "execute_result"
    },
    {
     "data": {
      "image/png": "[encoded data removed]",
      "text/plain": [
       "<Figure size 360x360 with 1 Axes>"
      ]
     },
     "metadata": {
      "needs_background": "light"
     },
     "output_type": "display_data"
    }
   ],
   "source": [
    "fig, axs = plt.subplots(figsize=(5,5),sharey=True, tight_layout=True)\n",
    "\n",
    "# We can set the number of bins with the `bins` kwarg\n",
    "axs.hist(cam_GLI_df['node_count'])\n",
    "axs.set_title('Distribution of Node Count')\n"
   ]
  },
  {
   "cell_type": "markdown",
   "metadata": {},
   "source": [
    "## Add Survey Info to CAM data"
   ]
  },
  {
   "cell_type": "code",
   "execution_count": 23,
   "metadata": {},
   "outputs": [
    {
     "ename": "FileNotFoundError",
     "evalue": "[Errno 2] No such file or directory: '/home/carterrhea/Dropbox/APLS-CAM-Proposal/DataFinal/SurveyMerge_large_df.csv'",
     "output_type": "error",
     "traceback": [
      "\u001b[0;31m---------------------------------------------------------------------------\u001b[0m",
      "\u001b[0;31mFileNotFoundError\u001b[0m                         Traceback (most recent call last)",
      "\u001b[0;32m<ipython-input-23-0424fabd9f5a>\u001b[0m in \u001b[0;36m<module>\u001b[0;34m\u001b[0m\n\u001b[1;32m      1\u001b[0m \u001b[0mfile_path_survey\u001b[0m \u001b[0;34m=\u001b[0m \u001b[0;34m'/home/carterrhea/Dropbox/APLS-CAM-Proposal/DataFinal/SurveyMerge_large_df.csv'\u001b[0m\u001b[0;34m\u001b[0m\u001b[0;34m\u001b[0m\u001b[0m\n\u001b[0;32m----> 2\u001b[0;31m \u001b[0msurvey_df\u001b[0m \u001b[0;34m=\u001b[0m \u001b[0mpd\u001b[0m\u001b[0;34m.\u001b[0m\u001b[0mread_csv\u001b[0m\u001b[0;34m(\u001b[0m\u001b[0mfile_path_survey\u001b[0m\u001b[0;34m)\u001b[0m\u001b[0;34m\u001b[0m\u001b[0;34m\u001b[0m\u001b[0m\n\u001b[0m\u001b[1;32m      3\u001b[0m \u001b[0msurvey_df\u001b[0m\u001b[0;34m.\u001b[0m\u001b[0mhead\u001b[0m\u001b[0;34m(\u001b[0m\u001b[0;34m)\u001b[0m\u001b[0;34m\u001b[0m\u001b[0;34m\u001b[0m\u001b[0m\n",
      "\u001b[0;32m~/anaconda3/lib/python3.8/site-packages/pandas/io/parsers.py\u001b[0m in \u001b[0;36mread_csv\u001b[0;34m(filepath_or_buffer, sep, delimiter, header, names, index_col, usecols, squeeze, prefix, mangle_dupe_cols, dtype, engine, converters, true_values, false_values, skipinitialspace, skiprows, skipfooter, nrows, na_values, keep_default_na, na_filter, verbose, skip_blank_lines, parse_dates, infer_datetime_format, keep_date_col, date_parser, dayfirst, cache_dates, iterator, chunksize, compression, thousands, decimal, lineterminator, quotechar, quoting, doublequote, escapechar, comment, encoding, dialect, error_bad_lines, warn_bad_lines, delim_whitespace, low_memory, memory_map, float_precision)\u001b[0m\n\u001b[1;32m    684\u001b[0m     )\n\u001b[1;32m    685\u001b[0m \u001b[0;34m\u001b[0m\u001b[0m\n\u001b[0;32m--> 686\u001b[0;31m     \u001b[0;32mreturn\u001b[0m \u001b[0m_read\u001b[0m\u001b[0;34m(\u001b[0m\u001b[0mfilepath_or_buffer\u001b[0m\u001b[0;34m,\u001b[0m \u001b[0mkwds\u001b[0m\u001b[0;34m)\u001b[0m\u001b[0;34m\u001b[0m\u001b[0;34m\u001b[0m\u001b[0m\n\u001b[0m\u001b[1;32m    687\u001b[0m \u001b[0;34m\u001b[0m\u001b[0m\n\u001b[1;32m    688\u001b[0m \u001b[0;34m\u001b[0m\u001b[0m\n",
      "\u001b[0;32m~/anaconda3/lib/python3.8/site-packages/pandas/io/parsers.py\u001b[0m in \u001b[0;36m_read\u001b[0;34m(filepath_or_buffer, kwds)\u001b[0m\n\u001b[1;32m    450\u001b[0m \u001b[0;34m\u001b[0m\u001b[0m\n\u001b[1;32m    451\u001b[0m     \u001b[0;31m# Create the parser.\u001b[0m\u001b[0;34m\u001b[0m\u001b[0;34m\u001b[0m\u001b[0;34m\u001b[0m\u001b[0m\n\u001b[0;32m--> 452\u001b[0;31m     \u001b[0mparser\u001b[0m \u001b[0;34m=\u001b[0m \u001b[0mTextFileReader\u001b[0m\u001b[0;34m(\u001b[0m\u001b[0mfp_or_buf\u001b[0m\u001b[0;34m,\u001b[0m \u001b[0;34m**\u001b[0m\u001b[0mkwds\u001b[0m\u001b[0;34m)\u001b[0m\u001b[0;34m\u001b[0m\u001b[0;34m\u001b[0m\u001b[0m\n\u001b[0m\u001b[1;32m    453\u001b[0m \u001b[0;34m\u001b[0m\u001b[0m\n\u001b[1;32m    454\u001b[0m     \u001b[0;32mif\u001b[0m \u001b[0mchunksize\u001b[0m \u001b[0;32mor\u001b[0m \u001b[0miterator\u001b[0m\u001b[0;34m:\u001b[0m\u001b[0;34m\u001b[0m\u001b[0;34m\u001b[0m\u001b[0m\n",
      "\u001b[0;32m~/anaconda3/lib/python3.8/site-packages/pandas/io/parsers.py\u001b[0m in \u001b[0;36m__init__\u001b[0;34m(self, f, engine, **kwds)\u001b[0m\n\u001b[1;32m    944\u001b[0m             \u001b[0mself\u001b[0m\u001b[0;34m.\u001b[0m\u001b[0moptions\u001b[0m\u001b[0;34m[\u001b[0m\u001b[0;34m\"has_index_names\"\u001b[0m\u001b[0;34m]\u001b[0m \u001b[0;34m=\u001b[0m \u001b[0mkwds\u001b[0m\u001b[0;34m[\u001b[0m\u001b[0;34m\"has_index_names\"\u001b[0m\u001b[0;34m]\u001b[0m\u001b[0;34m\u001b[0m\u001b[0;34m\u001b[0m\u001b[0m\n\u001b[1;32m    945\u001b[0m \u001b[0;34m\u001b[0m\u001b[0m\n\u001b[0;32m--> 946\u001b[0;31m         \u001b[0mself\u001b[0m\u001b[0;34m.\u001b[0m\u001b[0m_make_engine\u001b[0m\u001b[0;34m(\u001b[0m\u001b[0mself\u001b[0m\u001b[0;34m.\u001b[0m\u001b[0mengine\u001b[0m\u001b[0;34m)\u001b[0m\u001b[0;34m\u001b[0m\u001b[0;34m\u001b[0m\u001b[0m\n\u001b[0m\u001b[1;32m    947\u001b[0m \u001b[0;34m\u001b[0m\u001b[0m\n\u001b[1;32m    948\u001b[0m     \u001b[0;32mdef\u001b[0m \u001b[0mclose\u001b[0m\u001b[0;34m(\u001b[0m\u001b[0mself\u001b[0m\u001b[0;34m)\u001b[0m\u001b[0;34m:\u001b[0m\u001b[0;34m\u001b[0m\u001b[0;34m\u001b[0m\u001b[0m\n",
      "\u001b[0;32m~/anaconda3/lib/python3.8/site-packages/pandas/io/parsers.py\u001b[0m in \u001b[0;36m_make_engine\u001b[0;34m(self, engine)\u001b[0m\n\u001b[1;32m   1176\u001b[0m     \u001b[0;32mdef\u001b[0m \u001b[0m_make_engine\u001b[0m\u001b[0;34m(\u001b[0m\u001b[0mself\u001b[0m\u001b[0;34m,\u001b[0m \u001b[0mengine\u001b[0m\u001b[0;34m=\u001b[0m\u001b[0;34m\"c\"\u001b[0m\u001b[0;34m)\u001b[0m\u001b[0;34m:\u001b[0m\u001b[0;34m\u001b[0m\u001b[0;34m\u001b[0m\u001b[0m\n\u001b[1;32m   1177\u001b[0m         \u001b[0;32mif\u001b[0m \u001b[0mengine\u001b[0m \u001b[0;34m==\u001b[0m \u001b[0;34m\"c\"\u001b[0m\u001b[0;34m:\u001b[0m\u001b[0;34m\u001b[0m\u001b[0;34m\u001b[0m\u001b[0m\n\u001b[0;32m-> 1178\u001b[0;31m             \u001b[0mself\u001b[0m\u001b[0;34m.\u001b[0m\u001b[0m_engine\u001b[0m \u001b[0;34m=\u001b[0m \u001b[0mCParserWrapper\u001b[0m\u001b[0;34m(\u001b[0m\u001b[0mself\u001b[0m\u001b[0;34m.\u001b[0m\u001b[0mf\u001b[0m\u001b[0;34m,\u001b[0m \u001b[0;34m**\u001b[0m\u001b[0mself\u001b[0m\u001b[0;34m.\u001b[0m\u001b[0moptions\u001b[0m\u001b[0;34m)\u001b[0m\u001b[0;34m\u001b[0m\u001b[0;34m\u001b[0m\u001b[0m\n\u001b[0m\u001b[1;32m   1179\u001b[0m         \u001b[0;32melse\u001b[0m\u001b[0;34m:\u001b[0m\u001b[0;34m\u001b[0m\u001b[0;34m\u001b[0m\u001b[0m\n\u001b[1;32m   1180\u001b[0m             \u001b[0;32mif\u001b[0m \u001b[0mengine\u001b[0m \u001b[0;34m==\u001b[0m \u001b[0;34m\"python\"\u001b[0m\u001b[0;34m:\u001b[0m\u001b[0;34m\u001b[0m\u001b[0;34m\u001b[0m\u001b[0m\n",
      "\u001b[0;32m~/anaconda3/lib/python3.8/site-packages/pandas/io/parsers.py\u001b[0m in \u001b[0;36m__init__\u001b[0;34m(self, src, **kwds)\u001b[0m\n\u001b[1;32m   2006\u001b[0m         \u001b[0mkwds\u001b[0m\u001b[0;34m[\u001b[0m\u001b[0;34m\"usecols\"\u001b[0m\u001b[0;34m]\u001b[0m \u001b[0;34m=\u001b[0m \u001b[0mself\u001b[0m\u001b[0;34m.\u001b[0m\u001b[0musecols\u001b[0m\u001b[0;34m\u001b[0m\u001b[0;34m\u001b[0m\u001b[0m\n\u001b[1;32m   2007\u001b[0m \u001b[0;34m\u001b[0m\u001b[0m\n\u001b[0;32m-> 2008\u001b[0;31m         \u001b[0mself\u001b[0m\u001b[0;34m.\u001b[0m\u001b[0m_reader\u001b[0m \u001b[0;34m=\u001b[0m \u001b[0mparsers\u001b[0m\u001b[0;34m.\u001b[0m\u001b[0mTextReader\u001b[0m\u001b[0;34m(\u001b[0m\u001b[0msrc\u001b[0m\u001b[0;34m,\u001b[0m \u001b[0;34m**\u001b[0m\u001b[0mkwds\u001b[0m\u001b[0;34m)\u001b[0m\u001b[0;34m\u001b[0m\u001b[0;34m\u001b[0m\u001b[0m\n\u001b[0m\u001b[1;32m   2009\u001b[0m         \u001b[0mself\u001b[0m\u001b[0;34m.\u001b[0m\u001b[0munnamed_cols\u001b[0m \u001b[0;34m=\u001b[0m \u001b[0mself\u001b[0m\u001b[0;34m.\u001b[0m\u001b[0m_reader\u001b[0m\u001b[0;34m.\u001b[0m\u001b[0munnamed_cols\u001b[0m\u001b[0;34m\u001b[0m\u001b[0;34m\u001b[0m\u001b[0m\n\u001b[1;32m   2010\u001b[0m \u001b[0;34m\u001b[0m\u001b[0m\n",
      "\u001b[0;32mpandas/_libs/parsers.pyx\u001b[0m in \u001b[0;36mpandas._libs.parsers.TextReader.__cinit__\u001b[0;34m()\u001b[0m\n",
      "\u001b[0;32mpandas/_libs/parsers.pyx\u001b[0m in \u001b[0;36mpandas._libs.parsers.TextReader._setup_parser_source\u001b[0;34m()\u001b[0m\n",
      "\u001b[0;31mFileNotFoundError\u001b[0m: [Errno 2] No such file or directory: '/home/carterrhea/Dropbox/APLS-CAM-Proposal/DataFinal/SurveyMerge_large_df.csv'"
     ]
    }
   ],
   "source": [
    "file_path_survey = '/home/carterrhea/Dropbox/APLS-CAM-Proposal/DataFinal/SurveyMerge_large_df.csv'\n",
    "survey_df = pd.read_csv(file_path_survey)\n",
    "survey_df.head()"
   ]
  },
  {
   "cell_type": "code",
   "execution_count": 32,
   "metadata": {},
   "outputs": [],
   "source": [
    "#drop NAs\n",
    "survey_df_dropna = survey_df.dropna(subset=['Prolific1','Gender'])"
   ]
  },
  {
   "cell_type": "code",
   "execution_count": 33,
   "metadata": {},
   "outputs": [],
   "source": [
    "#Get the cam dataframe ready to merge with the survey data\n",
    "cam_GLI_full = cam_GLI_df.copy()\n",
    "Prolific1_list=cam_GLI_full['cam_id'].str.split('_').str[0]\n",
    "cam_GLI_full.insert(loc=0, column='Prolific1', value=Prolific1_list)\n",
    "cam_GLI_full = cam_GLI_full.drop(cam_GLI_full.columns[1], axis=1)"
   ]
  },
  {
   "cell_type": "code",
   "execution_count": 34,
   "metadata": {},
   "outputs": [
    {
     "name": "stdout",
     "output_type": "stream",
     "text": [
      "The length of cam_df: 158\n",
      "The length of survey_df: 113\n"
     ]
    }
   ],
   "source": [
    "print(f'The length of cam_df: {len(cam_GLI_full)}')\n",
    "print(f'The length of survey_df: {len(survey_df_dropna)}')"
   ]
  },
  {
   "cell_type": "code",
   "execution_count": 35,
   "metadata": {},
   "outputs": [],
   "source": [
    "survey_cam_merge = pd.merge(cam_GLI_full, survey_df_dropna, how = 'inner', on = 'Prolific1')\n",
    "survey_cam_merge.to_csv('~/Downloads/survey_cam_merge.csv')"
   ]
  },
  {
   "cell_type": "code",
   "execution_count": 36,
   "metadata": {},
   "outputs": [
    {
     "name": "stdout",
     "output_type": "stream",
     "text": [
      "The length of merged data: 123\n"
     ]
    }
   ],
   "source": [
    "print(f'The length of merged data: {len(survey_cam_merge)}')"
   ]
  }
 ],
 "metadata": {
  "kernelspec": {
   "display_name": "Python 3",
   "language": "python",
   "name": "python3"
  },
  "language_info": {
   "codemirror_mode": {
    "name": "ipython",
    "version": 3
   },
   "file_extension": ".py",
   "mimetype": "text/x-python",
   "name": "python",
   "nbconvert_exporter": "python",
   "pygments_lexer": "ipython3",
   "version": "3.8.5"
  }
 },
 "nbformat": 4,
 "nbformat_minor": 4
}
